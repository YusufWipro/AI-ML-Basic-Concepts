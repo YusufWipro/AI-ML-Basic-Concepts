{
 "cells": [
  {
   "cell_type": "code",
   "execution_count": 1,
   "metadata": {},
   "outputs": [],
   "source": [
    "#Exercise 3 of NLP\n",
    "\n",
    "from nltk import pos_tag, word_tokenize, ne_chunk"
   ]
  },
  {
   "cell_type": "code",
   "execution_count": 2,
   "metadata": {},
   "outputs": [],
   "source": [
    "data=open('NLPdataEx3&4-data_in.txt','r')"
   ]
  },
  {
   "cell_type": "code",
   "execution_count": 3,
   "metadata": {},
   "outputs": [
    {
     "name": "stdout",
     "output_type": "stream",
     "text": [
      "['Hello there, how are you? Weather is awesome. Its raining here now.', 'Hello Mr. Raja, how are you? Weather is awesome. Its raining here now.', 'Hello Mr. Raja, how are you. Weather is bad. Its heavily raining here now.', 'NLP is great technique. It is nice to learn this technique.', 'AI is making difference in this world now.  It would be helpful for betterment of human life. We need to make advantage of that.']\n"
     ]
    }
   ],
   "source": [
    "text=data.read()\n",
    "text=text.rstrip()\n",
    "sentences=text.split('\\n')\n",
    "print(sentences)\n"
   ]
  },
  {
   "cell_type": "code",
   "execution_count": 4,
   "metadata": {},
   "outputs": [
    {
     "name": "stdout",
     "output_type": "stream",
     "text": [
      "None\n",
      "None\n",
      "None\n",
      "None\n",
      "None\n"
     ]
    }
   ],
   "source": [
    "#POS tagging and tree structure of each sentence\n",
    "for sentence in sentences:\n",
    "    sent_token=word_tokenize(sentence)\n",
    "    tokens_tag=pos_tag(sent_token)\n",
    "    tokens_chunk=ne_chunk(tokens_tag)\n",
    "    print(tokens_chunk.draw())"
   ]
  },
  {
   "cell_type": "code",
   "execution_count": null,
   "metadata": {},
   "outputs": [],
   "source": []
  }
 ],
 "metadata": {
  "kernelspec": {
   "display_name": "Python 3",
   "language": "python",
   "name": "python3"
  },
  "language_info": {
   "codemirror_mode": {
    "name": "ipython",
    "version": 3
   },
   "file_extension": ".py",
   "mimetype": "text/x-python",
   "name": "python",
   "nbconvert_exporter": "python",
   "pygments_lexer": "ipython3",
   "version": "3.7.3"
  }
 },
 "nbformat": 4,
 "nbformat_minor": 2
}
