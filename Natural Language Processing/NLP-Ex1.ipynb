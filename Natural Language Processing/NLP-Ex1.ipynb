{
 "cells": [
  {
   "cell_type": "code",
   "execution_count": 1,
   "metadata": {},
   "outputs": [],
   "source": [
    "#Exercise 1 NLP\n",
    "\n",
    "from nltk.tokenize  import sent_tokenize\n",
    "from nltk.chunk import ne_chunk\n",
    "import pandas as pd\n",
    "import csv"
   ]
  },
  {
   "cell_type": "code",
   "execution_count": 2,
   "metadata": {},
   "outputs": [],
   "source": [
    "#read the data\n",
    "data=pd.read_csv('data_in.csv')"
   ]
  },
  {
   "cell_type": "code",
   "execution_count": 3,
   "metadata": {},
   "outputs": [],
   "source": [
    "#tokenize each sentence\n",
    "data_out=[]\n",
    "for sentence in data.values:\n",
    "    x=sent_tokenize(sentence[0])\n",
    "    data_out.append(x)"
   ]
  },
  {
   "cell_type": "code",
   "execution_count": 4,
   "metadata": {},
   "outputs": [
    {
     "data": {
      "text/html": [
       "<div>\n",
       "<style scoped>\n",
       "    .dataframe tbody tr th:only-of-type {\n",
       "        vertical-align: middle;\n",
       "    }\n",
       "\n",
       "    .dataframe tbody tr th {\n",
       "        vertical-align: top;\n",
       "    }\n",
       "\n",
       "    .dataframe thead th {\n",
       "        text-align: right;\n",
       "    }\n",
       "</style>\n",
       "<table border=\"1\" class=\"dataframe\">\n",
       "  <thead>\n",
       "    <tr style=\"text-align: right;\">\n",
       "      <th></th>\n",
       "      <th>0</th>\n",
       "      <th>1</th>\n",
       "      <th>2</th>\n",
       "    </tr>\n",
       "  </thead>\n",
       "  <tbody>\n",
       "    <tr>\n",
       "      <th>0</th>\n",
       "      <td>\"Hello there, how are you?</td>\n",
       "      <td>Weather is awesome.</td>\n",
       "      <td>Its raining here now.\"</td>\n",
       "    </tr>\n",
       "    <tr>\n",
       "      <th>1</th>\n",
       "      <td>\"Hello Mr. Raja, how are you?</td>\n",
       "      <td>Weather is awesome.</td>\n",
       "      <td>Its raining here now.\"</td>\n",
       "    </tr>\n",
       "    <tr>\n",
       "      <th>2</th>\n",
       "      <td>\"Hello Mr. Raja, how are you.</td>\n",
       "      <td>Weather is bad.</td>\n",
       "      <td>Its heavily raining here now.\"</td>\n",
       "    </tr>\n",
       "    <tr>\n",
       "      <th>3</th>\n",
       "      <td>\"NLP is great technique.</td>\n",
       "      <td>It is nice to learn this technique.\"</td>\n",
       "      <td>None</td>\n",
       "    </tr>\n",
       "    <tr>\n",
       "      <th>4</th>\n",
       "      <td>\"AI is making difference in this world now.</td>\n",
       "      <td>It would be helpful for betterment of human life.</td>\n",
       "      <td>We need to make advantage of that.\"</td>\n",
       "    </tr>\n",
       "  </tbody>\n",
       "</table>\n",
       "</div>"
      ],
      "text/plain": [
       "                                             0  \\\n",
       "0                   \"Hello there, how are you?   \n",
       "1                \"Hello Mr. Raja, how are you?   \n",
       "2                \"Hello Mr. Raja, how are you.   \n",
       "3                     \"NLP is great technique.   \n",
       "4  \"AI is making difference in this world now.   \n",
       "\n",
       "                                                   1  \\\n",
       "0                                Weather is awesome.   \n",
       "1                                Weather is awesome.   \n",
       "2                                    Weather is bad.   \n",
       "3               It is nice to learn this technique.\"   \n",
       "4  It would be helpful for betterment of human life.   \n",
       "\n",
       "                                     2  \n",
       "0               Its raining here now.\"  \n",
       "1               Its raining here now.\"  \n",
       "2       Its heavily raining here now.\"  \n",
       "3                                 None  \n",
       "4  We need to make advantage of that.\"  "
      ]
     },
     "execution_count": 4,
     "metadata": {},
     "output_type": "execute_result"
    }
   ],
   "source": [
    "df=pd.DataFrame(data_out)\n",
    "df"
   ]
  },
  {
   "cell_type": "code",
   "execution_count": 5,
   "metadata": {},
   "outputs": [],
   "source": [
    "#Output Data_out.csv\n",
    "df.to_csv('data_out.csv',mode='a',index=False,header=False)"
   ]
  },
  {
   "cell_type": "code",
   "execution_count": 6,
   "metadata": {},
   "outputs": [
    {
     "name": "stdout",
     "output_type": "stream",
     "text": [
      "(S\n",
      "  \"Hello there, how are you?\n",
      "  Weather is awesome.\n",
      "  Its raining here now.\")\n",
      "(S\n",
      "  \"Hello Mr. Raja, how are you?\n",
      "  Weather is awesome.\n",
      "  Its raining here now.\")\n",
      "(S\n",
      "  \"Hello Mr. Raja, how are you.\n",
      "  Weather is bad.\n",
      "  Its heavily raining here now.\")\n",
      "(S \"NLP is great technique. It is nice to learn this technique.\")\n",
      "(S\n",
      "  \"AI is making difference in this world now.\n",
      "  It would be helpful for betterment of human life.\n",
      "  We need to make advantage of that.\")\n"
     ]
    }
   ],
   "source": [
    "#chunking\n",
    "\n",
    "for sentence in data.values:\n",
    "    x=sent_tokenize(sentence[0])\n",
    "    print(ne_chunk(x))"
   ]
  }
 ],
 "metadata": {
  "kernelspec": {
   "display_name": "Python 3",
   "language": "python",
   "name": "python3"
  },
  "language_info": {
   "codemirror_mode": {
    "name": "ipython",
    "version": 3
   },
   "file_extension": ".py",
   "mimetype": "text/x-python",
   "name": "python",
   "nbconvert_exporter": "python",
   "pygments_lexer": "ipython3",
   "version": "3.7.3"
  }
 },
 "nbformat": 4,
 "nbformat_minor": 2
}
