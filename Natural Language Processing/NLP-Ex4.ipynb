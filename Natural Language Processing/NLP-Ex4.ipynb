{
 "cells": [
  {
   "cell_type": "code",
   "execution_count": 72,
   "metadata": {},
   "outputs": [],
   "source": [
    "#Exercise 4 of NLP\n",
    "#importing nltk\n",
    "from nltk import word_tokenize\n",
    "from nltk.corpus import stopwords\n",
    "from nltk import stem\n",
    "import string"
   ]
  },
  {
   "cell_type": "code",
   "execution_count": 73,
   "metadata": {},
   "outputs": [],
   "source": [
    "#Reading the data\n",
    "data=open('NLPdataEx3&4-data_in.txt','r')"
   ]
  },
  {
   "cell_type": "code",
   "execution_count": 74,
   "metadata": {},
   "outputs": [
    {
     "name": "stdout",
     "output_type": "stream",
     "text": [
      "['Hello', 'there', 'how', 'are', 'you', 'Weather', 'is', 'awesome', 'Its', 'raining', 'here', 'now', 'Hello', 'Mr.', 'Raja', 'how', 'are', 'you', 'Weather', 'is', 'awesome', 'Its', 'raining', 'here', 'now', 'Hello', 'Mr.', 'Raja', 'how', 'are', 'you', 'Weather', 'is', 'bad', 'Its', 'heavily', 'raining', 'here', 'now', 'NLP', 'is', 'great', 'technique', 'It', 'is', 'nice', 'to', 'learn', 'this', 'technique', 'AI', 'is', 'making', 'difference', 'in', 'this', 'world', 'now', 'It', 'would', 'be', 'helpful', 'for', 'betterment', 'of', 'human', 'life', 'We', 'need', 'to', 'make', 'advantage', 'of', 'that']\n"
     ]
    }
   ],
   "source": [
    "text=data.read()\n",
    "text=text.rstrip()\n",
    "text_tokens=word_tokenize(text)\n",
    "#removing the punctuation\n",
    "text_tokens=list(filter(lambda token:token not in string.punctuation,text_tokens))\n",
    "print(text_tokens)"
   ]
  },
  {
   "cell_type": "code",
   "execution_count": 75,
   "metadata": {},
   "outputs": [],
   "source": [
    "#Removing stopwords\n",
    "text_without_sw=[]\n",
    "stop_words=set(stopwords.words('english'))\n",
    "for word in text_tokens:\n",
    "    flag=0\n",
    "    for stp_wrd in stop_words:\n",
    "        if(word == stp_wrd):\n",
    "            flag=1\n",
    "    if(flag == 0):\n",
    "        text_without_sw.append(word)\n",
    "            \n",
    "    "
   ]
  },
  {
   "cell_type": "code",
   "execution_count": 76,
   "metadata": {},
   "outputs": [
    {
     "name": "stdout",
     "output_type": "stream",
     "text": [
      "['Hello', 'Weather', 'awesome', 'Its', 'raining', 'Hello', 'Mr.', 'Raja', 'Weather', 'awesome', 'Its', 'raining', 'Hello', 'Mr.', 'Raja', 'Weather', 'bad', 'Its', 'heavily', 'raining', 'NLP', 'great', 'technique', 'It', 'nice', 'learn', 'technique', 'AI', 'making', 'difference', 'world', 'It', 'would', 'helpful', 'betterment', 'human', 'life', 'We', 'need', 'make', 'advantage']\n"
     ]
    }
   ],
   "source": [
    "print(text_without_sw)"
   ]
  },
  {
   "cell_type": "code",
   "execution_count": 78,
   "metadata": {},
   "outputs": [],
   "source": [
    "ps=stem.PorterStemmer()\n",
    "lemt=stem.WordNetLemmatizer()"
   ]
  },
  {
   "cell_type": "code",
   "execution_count": 81,
   "metadata": {},
   "outputs": [
    {
     "name": "stdout",
     "output_type": "stream",
     "text": [
      "Word:Hello , Stemmed: hello , Lemmatized:Hello\n",
      "Word:Weather , Stemmed: weather , Lemmatized:Weather\n",
      "Word:awesome , Stemmed: awesom , Lemmatized:awesome\n",
      "Word:Its , Stemmed: it , Lemmatized:Its\n",
      "Word:raining , Stemmed: rain , Lemmatized:raining\n",
      "Word:Hello , Stemmed: hello , Lemmatized:Hello\n",
      "Word:Mr. , Stemmed: mr. , Lemmatized:Mr.\n",
      "Word:Raja , Stemmed: raja , Lemmatized:Raja\n",
      "Word:Weather , Stemmed: weather , Lemmatized:Weather\n",
      "Word:awesome , Stemmed: awesom , Lemmatized:awesome\n",
      "Word:Its , Stemmed: it , Lemmatized:Its\n",
      "Word:raining , Stemmed: rain , Lemmatized:raining\n",
      "Word:Hello , Stemmed: hello , Lemmatized:Hello\n",
      "Word:Mr. , Stemmed: mr. , Lemmatized:Mr.\n",
      "Word:Raja , Stemmed: raja , Lemmatized:Raja\n",
      "Word:Weather , Stemmed: weather , Lemmatized:Weather\n",
      "Word:bad , Stemmed: bad , Lemmatized:bad\n",
      "Word:Its , Stemmed: it , Lemmatized:Its\n",
      "Word:heavily , Stemmed: heavili , Lemmatized:heavily\n",
      "Word:raining , Stemmed: rain , Lemmatized:raining\n",
      "Word:NLP , Stemmed: nlp , Lemmatized:NLP\n",
      "Word:great , Stemmed: great , Lemmatized:great\n",
      "Word:technique , Stemmed: techniqu , Lemmatized:technique\n",
      "Word:It , Stemmed: It , Lemmatized:It\n",
      "Word:nice , Stemmed: nice , Lemmatized:nice\n",
      "Word:learn , Stemmed: learn , Lemmatized:learn\n",
      "Word:technique , Stemmed: techniqu , Lemmatized:technique\n",
      "Word:AI , Stemmed: AI , Lemmatized:AI\n",
      "Word:making , Stemmed: make , Lemmatized:making\n",
      "Word:difference , Stemmed: differ , Lemmatized:difference\n",
      "Word:world , Stemmed: world , Lemmatized:world\n",
      "Word:It , Stemmed: It , Lemmatized:It\n",
      "Word:would , Stemmed: would , Lemmatized:would\n",
      "Word:helpful , Stemmed: help , Lemmatized:helpful\n",
      "Word:betterment , Stemmed: better , Lemmatized:betterment\n",
      "Word:human , Stemmed: human , Lemmatized:human\n",
      "Word:life , Stemmed: life , Lemmatized:life\n",
      "Word:We , Stemmed: We , Lemmatized:We\n",
      "Word:need , Stemmed: need , Lemmatized:need\n",
      "Word:make , Stemmed: make , Lemmatized:make\n",
      "Word:advantage , Stemmed: advantag , Lemmatized:advantage\n"
     ]
    }
   ],
   "source": [
    "#Comparison of Stemming and Lemmatizing \n",
    "for word in text_without_sw:\n",
    "    print(\"Word:{} , Stemmed: {} , Lemmatized:{}\".format(word,ps.stem(word),lemt.lemmatize(word)))"
   ]
  },
  {
   "cell_type": "code",
   "execution_count": null,
   "metadata": {},
   "outputs": [],
   "source": []
  }
 ],
 "metadata": {
  "kernelspec": {
   "display_name": "Python 3",
   "language": "python",
   "name": "python3"
  },
  "language_info": {
   "codemirror_mode": {
    "name": "ipython",
    "version": 3
   },
   "file_extension": ".py",
   "mimetype": "text/x-python",
   "name": "python",
   "nbconvert_exporter": "python",
   "pygments_lexer": "ipython3",
   "version": "3.7.3"
  }
 },
 "nbformat": 4,
 "nbformat_minor": 2
}
