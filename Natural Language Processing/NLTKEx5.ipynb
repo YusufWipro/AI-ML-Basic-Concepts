{
 "cells": [
  {
   "cell_type": "code",
   "execution_count": 111,
   "metadata": {},
   "outputs": [],
   "source": [
    "#Exercise 5 of NLP\n",
    "from nltk import word_tokenize"
   ]
  },
  {
   "cell_type": "code",
   "execution_count": 120,
   "metadata": {},
   "outputs": [
    {
     "name": "stdout",
     "output_type": "stream",
     "text": [
      "['rose', 'is', 'beautiful', '.', 'place', 'is', 'nasty', 'to', 'stay', '.', 'this', 'is', 'the', 'beauty', 'of', 'this', 'technique', '.', 'concept', 'is', 'explained', 'beautifully', 'in', 'this', 'book', '.', 'he', 'annoyed', 'me', '.', 'its', 'the', 'supreme', 'place', 'to', 'stay', '.', 'i', 'hate', 'this', 'place', '.', 'dont', 'annoy', 'the', 'customer', '.', 'he', 'has', 'given', 'nasty', 'comments', 'about', 'his', 'stay', '.', 'dessert', 'is', 'awesome', '.', 'your', 'gift', 'is', 'wonderful', '.']\n"
     ]
    }
   ],
   "source": [
    "#Reading the data\n",
    "data=open('NLPdataEx5data_senti_analyze.txt')\n",
    "sentiments=word_tokenize(data.read().lower())\n",
    "print(sentiments)"
   ]
  },
  {
   "cell_type": "code",
   "execution_count": 121,
   "metadata": {
    "scrolled": false
   },
   "outputs": [
    {
     "name": "stdout",
     "output_type": "stream",
     "text": [
      "{'hate': -1, 'hatred': -1, 'annoyed': -2, 'annoy': -2, 'annoyingly': -1, 'nasty': -2, 'nice': 1, 'excellent': 3, 'good': 1, 'wonderful': 2, 'best': 3, 'better': 1, 'awesome': 3, 'beautiful': 1, 'beauty': 1, 'beautifully': 1, 'supreme': 3}\n"
     ]
    }
   ],
   "source": [
    "#dictionary\n",
    "dictionary={}\n",
    "for sentiment in open('DictionarySentiment.txt'):\n",
    "    word,weight=sentiment.split('\\t')\n",
    "    dictionary[word]=int(weight)\n",
    "print(dictionary)"
   ]
  },
  {
   "cell_type": "code",
   "execution_count": 122,
   "metadata": {},
   "outputs": [
    {
     "name": "stdout",
     "output_type": "stream",
     "text": [
      "beautiful:1\n",
      "nasty:-2\n",
      "beauty:1\n",
      "beautifully:1\n",
      "annoyed:-2\n",
      "supreme:3\n",
      "hate:-1\n",
      "annoy:-2\n",
      "nasty:-2\n",
      "awesome:3\n",
      "wonderful:2\n"
     ]
    }
   ],
   "source": [
    "#Sentiment Analysis of data\n",
    "score=0\n",
    "for sent in sentiments:\n",
    "    temp=dictionary.get(sent)\n",
    "    if(type(temp) == type(1)):\n",
    "        score+=temp\n",
    "        print(\"{}:{}\".format(sent,temp))\n"
   ]
  },
  {
   "cell_type": "code",
   "execution_count": 124,
   "metadata": {},
   "outputs": [
    {
     "name": "stdout",
     "output_type": "stream",
     "text": [
      "Total score 2 which is Positive Setiment\n"
     ]
    }
   ],
   "source": [
    "if(score>0):\n",
    "    print(\"Total score {} which is Positive Setiment\".format(score))\n",
    "else:\n",
    "    print(\"Total score {} which is Negative Sentiment\".format(score))\n",
    "    "
   ]
  },
  {
   "cell_type": "code",
   "execution_count": null,
   "metadata": {},
   "outputs": [],
   "source": []
  }
 ],
 "metadata": {
  "kernelspec": {
   "display_name": "Python 3",
   "language": "python",
   "name": "python3"
  },
  "language_info": {
   "codemirror_mode": {
    "name": "ipython",
    "version": 3
   },
   "file_extension": ".py",
   "mimetype": "text/x-python",
   "name": "python",
   "nbconvert_exporter": "python",
   "pygments_lexer": "ipython3",
   "version": "3.7.3"
  }
 },
 "nbformat": 4,
 "nbformat_minor": 2
}
